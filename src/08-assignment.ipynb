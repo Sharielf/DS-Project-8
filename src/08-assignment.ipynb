{
 "cells": [
  {
   "attachments": {},
   "cell_type": "markdown",
   "id": "371010e9-2aa2-4315-9f96-491c8d28d0b6",
   "metadata": {},
   "source": [
    "# Задания"
   ]
  },
  {
   "cell_type": "code",
   "execution_count": 1,
   "id": "7c143ef3-357c-4be1-85c5-13b8ca3eba6f",
   "metadata": {},
   "outputs": [],
   "source": [
    "import pandas as pd\n",
    "import numpy as np\n",
    "import reverse_geocoder as rg\n",
    "import warnings\n",
    "warnings.filterwarnings(\"ignore\")\n",
    "import pycountry\n",
    "from sklearn.cluster import KMeans\n",
    "from scipy.spatial.distance import cdist\n",
    "from sklearn.cluster import MeanShift"
   ]
  },
  {
   "attachments": {},
   "cell_type": "markdown",
   "id": "0bf2c419-407b-4663-9c56-3a2a73b3240b",
   "metadata": {},
   "source": [
    "## Задание 1"
   ]
  },
  {
   "attachments": {},
   "cell_type": "markdown",
   "id": "75b9b5d0-aaf4-4fb1-a9b0-d548e2b92bf3",
   "metadata": {},
   "source": [
    "Загрузи данные о посещениях заведений. В них содержится информация о регистрации пользователя в заведениях \n",
    "и геолокация этих заведений. Очисти данные от записей с пропусками. \\\n",
    "Выведи количество записей после очистки. "
   ]
  },
  {
   "cell_type": "code",
   "execution_count": 2,
   "id": "7436c194-ad3d-4165-a043-33bb11eb51bf",
   "metadata": {},
   "outputs": [
    {
     "name": "stdout",
     "output_type": "stream",
     "text": [
      "Количество записей после очистки: 396634\n"
     ]
    }
   ],
   "source": [
    "df = pd.read_csv(\"../datasets/checkins.dat\", sep=\"|\", skipinitialspace=True)\n",
    "df.dropna(inplace=True)\n",
    "print(\"Количество записей после очистки:\", len(df))"
   ]
  },
  {
   "attachments": {},
   "cell_type": "markdown",
   "id": "e8752027-47e6-47f0-9bba-144fba13ef11",
   "metadata": {},
   "source": [
    "## Задание 2"
   ]
  },
  {
   "attachments": {},
   "cell_type": "markdown",
   "id": "f104cf4e-eeb1-4cc3-af59-f400050f1541",
   "metadata": {},
   "source": [
    "Эти данные содержат информацию о заведениях со всего мира. С помощью геолокаций и библиотеки [Reverse Geocoder](https://github.com/thampiman/reverse-geocoder),\n",
    "узнай страну для каждой геопозиции. \\\n",
    "Узнай **название** второй страны по количеству записей."
   ]
  },
  {
   "cell_type": "code",
   "execution_count": 3,
   "id": "c9589136",
   "metadata": {},
   "outputs": [
    {
     "name": "stdout",
     "output_type": "stream",
     "text": [
      "Loading formatted geocoded file...\n",
      "United States: 373258\n",
      "Indonesia: 5356\n",
      "Название второй страны:  Indonesia\n"
     ]
    }
   ],
   "source": [
    "df.columns = df.columns.str.strip()\n",
    "\n",
    "# извлечение геопозиций\n",
    "locations = df[['latitude', 'longitude']].values.tolist()\n",
    "\n",
    "# Изменение формата передачи координат\n",
    "locations = [(location[0], location[1]) for location in locations]\n",
    "\n",
    "# использование reverse_geocoder для определения страны для каждой геопозиции\n",
    "results = rg.search(locations)\n",
    "\n",
    "# создание словаря для хранения количества записей для каждой страны\n",
    "countries = {}\n",
    "for result in results:\n",
    "    country_code = result['cc']\n",
    "    if country_code in countries:\n",
    "         countries[country_code] += 1\n",
    "    else:\n",
    "         countries[country_code] = 1\n",
    "\n",
    "# сортировка по количеству записей и получение названия второй страны\n",
    "top_countries = sorted(countries.items(), key=lambda x: x[1], reverse=True)\n",
    "top_two_countries = top_countries[:2]\n",
    "second_country_name = pycountry.countries.get(alpha_2=top_two_countries[1][0]).name\n",
    "\n",
    "#Cчитаем записи для первых двух стран\n",
    "for i in range(2):\n",
    "    country_code = top_two_countries[i][0]\n",
    "    country_name = pycountry.countries.get(alpha_2=country_code).name\n",
    "    count = top_two_countries[i][1]\n",
    "    print(f\"{country_name}: {count}\")\n",
    "    \n",
    "# вывод названия второй страны\n",
    "second_country_name = pycountry.countries.get(alpha_2=top_two_countries[1][0]).name\n",
    "print(\"Название второй страны: \", second_country_name)\n"
   ]
  },
  {
   "cell_type": "code",
   "execution_count": 4,
   "id": "646579aa",
   "metadata": {},
   "outputs": [
    {
     "name": "stdout",
     "output_type": "stream",
     "text": [
      "{'US': 373258, 'CO': 68, 'CA': 5341, 'MX': 833, 'IE': 117, 'PR': 245, 'AR': 174, 'AU': 528, 'CH': 149, 'GB': 1812, 'JP': 383, 'KR': 267, 'RU': 157, 'BR': 720, 'NL': 338, 'NZ': 77, 'FR': 494, 'FI': 137, 'IT': 252, 'IL': 187, 'SE': 109, 'DE': 552, 'ID': 5356, 'UY': 3, 'TR': 100, 'PT': 35, 'PA': 35, 'IN': 212, 'ES': 316, 'AT': 63, 'SG': 522, 'NO': 27, 'KE': 374, 'TW': 55, 'DO': 52, 'CL': 137, 'HU': 59, 'AE': 88, 'PH': 225, 'GR': 80, 'SA': 13, 'UA': 21, 'GG': 3, 'CN': 298, 'IS': 16, 'ZA': 66, 'MY': 375, 'TT': 15, 'TH': 633, 'HR': 42, 'JE': 11, 'HK': 229, 'BH': 6, 'NI': 10, 'EG': 28, 'BE': 121, 'QA': 14, 'PL': 50, 'DK': 115, 'GT': 8, 'SK': 13, 'CZ': 30, 'VE': 22, 'CR': 38, 'PE': 48, 'EC': 19, 'EE': 14, 'SI': 9, 'SM': 1, 'BJ': 1, 'RO': 11, 'KW': 14, 'VI': 18, 'LB': 21, 'BS': 34, 'BB': 6, 'LV': 2, 'BZ': 8, 'VN': 28, 'CY': 8, 'IQ': 1, 'MC': 11, 'VA': 8, 'CU': 3, 'LU': 11, 'TL': 4, 'JM': 33, 'UZ': 7, 'IR': 7, 'MA': 5, 'MO': 2, 'AO': 1, 'AW': 7, 'NA': 5, 'PK': 5, 'HT': 5, 'BM': 11, 'JO': 10, 'AG': 3, 'HN': 4, 'VG': 6, 'GU': 4, 'UG': 2, 'BA': 1, 'BD': 4, 'ZW': 1, 'NP': 2, 'CW': 1, 'PY': 3, 'MD': 2, 'BO': 2, 'MN': 4, 'KY': 7, 'AD': 2, 'PS': 1, 'SJ': 3, 'SO': 7, 'XK': 1, 'BG': 3, 'MU': 2, 'ET': 3, 'SB': 1, 'TN': 3, 'TZ': 2, 'GH': 16, 'AZ': 3, 'RS': 1, 'AI': 6, 'SV': 2, 'SX': 4, 'MM': 1, 'MZ': 5, 'NG': 3, 'BL': 6, 'TC': 1, 'SH': 5, 'BN': 2, 'AF': 7, 'KH': 1, 'FJ': 4, 'GI': 1}\n"
     ]
    }
   ],
   "source": [
    "print(countries)"
   ]
  },
  {
   "attachments": {},
   "cell_type": "markdown",
   "id": "a7769b9b-67ab-4e12-b097-97bffcdea5aa",
   "metadata": {},
   "source": [
    "## Задание 3"
   ]
  },
  {
   "attachments": {},
   "cell_type": "markdown",
   "id": "085620a7-1d14-4b40-a879-3665c6bfd9b8",
   "metadata": {},
   "source": [
    "Нас будут интересовать только американские локации. Очисти данные от локаций, находящихся в других странах. \n",
    "Также, чтобы сократить количество, геолокаций оставь в выборке только 50 самых часто встречаемых заведений (venue). \\\n",
    "Выведи количество локаций, оставшихся после этих очисток."
   ]
  },
  {
   "cell_type": "code",
   "execution_count": 5,
   "id": "6c518747-725a-48ed-b390-bc3c15977297",
   "metadata": {},
   "outputs": [
    {
     "name": "stdout",
     "output_type": "stream",
     "text": [
      "Количество локаций: 162099\n"
     ]
    }
   ],
   "source": [
    "# загружаем данные и очищаем их\n",
    "data = pd.read_csv(\"../datasets/checkins.dat\", sep=\"|\", skipinitialspace=True)\n",
    "data.columns = data.columns.str.strip()\n",
    "data.dropna(inplace=True)\n",
    "\n",
    "# оставляем только локации, находящиеся в США\n",
    "locations = [(lat, lon) for lat, lon in zip(data['latitude'], data['longitude'])]\n",
    "results = rg.search(locations)\n",
    "data_usa = data[[result['cc'] == 'US' for result in results]]\n",
    "\n",
    "# выбираем только 50 самых часто встречаемых заведений\n",
    "venues = data_usa['venue_id'].value_counts().head(50).index\n",
    "data_usa_venues = data_usa[data_usa['venue_id'].isin(venues)]\n",
    "\n",
    "# выводим количество локаций, оставшихся после очисток\n",
    "print(f\"Количество локаций: {len(data_usa_venues)}\")"
   ]
  },
  {
   "attachments": {},
   "cell_type": "markdown",
   "id": "63857f92-61aa-49e9-b503-ffdcb3cf24c2",
   "metadata": {},
   "source": [
    "## Задание 4"
   ]
  },
  {
   "attachments": {},
   "cell_type": "markdown",
   "id": "ff9ef0df-98c9-41b9-b4a6-bbd6ec51ff68",
   "metadata": {},
   "source": [
    "Перейдем к задаче кластеризации. Воспользуйся алгоритмом [Mean Shift](https://scikit-learn.org/stable/modules/clustering.html#mean-shift)\n",
    "для кластеризации локаций. Параметрами укажи `MeanShift(bandwidth=0.1, bin_seeding=True)`. \n",
    "\n",
    "    `bandwidth=0.1` - это ширина ядра кластеризации. Для средних широт США - это порядка 5-10 км. \n",
    "    `bin_seeding=True` - для ускорения работы алгоритма.\n",
    "    \n",
    "Выведи количество кластеров, которые у тебя получились в результате кластеризации."
   ]
  },
  {
   "cell_type": "code",
   "execution_count": 6,
   "id": "f1f1302b-fe64-49d4-bdc7-7bd547d5dd6a",
   "metadata": {},
   "outputs": [
    {
     "name": "stdout",
     "output_type": "stream",
     "text": [
      "Количество кластеров: 2846\n"
     ]
    }
   ],
   "source": [
    "# кластеризация с помощью Mean Shift\n",
    "bandwidth = 0.1\n",
    "ms = MeanShift(bandwidth=bandwidth, bin_seeding=True).fit(data_usa_venues[['latitude', 'longitude']])\n",
    "labels = ms.labels_\n",
    "n_clusters = len(np.unique(labels))\n",
    "\n",
    "# вывод количества кластеров\n",
    "print(f\"Количество кластеров: {n_clusters}\")"
   ]
  },
  {
   "attachments": {},
   "cell_type": "markdown",
   "id": "5527ab7b-7cc4-496d-af6c-36ad3f1bcb54",
   "metadata": {},
   "source": [
    "## Задание 5"
   ]
  },
  {
   "attachments": {},
   "cell_type": "markdown",
   "id": "7c7ece37-8a85-4977-9390-b17787e8c9d6",
   "metadata": {},
   "source": [
    "Центры полученных кластеров - это потенциальные места установки банеров компании. Теперь хотелось бы найти те центры кластеров, \n",
    "которые наиболее близко находятся к офисам продаж компании. \\\n",
    "Загрузи [данные по координатам офисов компании](datasets/offices.csv). Для каждого офиса найди 5 самых ближайших к нему центров кластеров. \n",
    "(Пренебрежем тем, что Земля круглая и рассчитаем Евклидово расстояние).\n",
    "У компании 11 офисов, значит у нас должно получится 55 мест установки баннеров. \\\n",
    "Выведи координаты установки баннера, который ближе всего находится к офису компании."
   ]
  },
  {
   "cell_type": "code",
   "execution_count": 7,
   "id": "2b6d4e0e",
   "metadata": {},
   "outputs": [
    {
     "name": "stdout",
     "output_type": "stream",
     "text": [
      "    Unnamed: 0   latitude   longitude\n",
      "0            0  37.805200 -122.401462\n",
      "1            1  34.272249 -118.468420\n",
      "2            2  33.751277 -118.188740\n",
      "3            3  32.717588 -117.174758\n",
      "4            4  29.307715  -94.797707\n",
      "5            5  30.686856  -88.038649\n",
      "6            6  27.945382  -82.443917\n",
      "7            7  25.852788  -80.191339\n",
      "8            8  30.406825  -81.578839\n",
      "9            9  32.786669  -79.928605\n",
      "10          10  39.264089  -76.589212\n"
     ]
    }
   ],
   "source": [
    "print(pd.read_csv(\"../datasets/offices.csv\"))\n",
    "offices = pd.read_csv (\"../datasets/offices.csv\")"
   ]
  },
  {
   "cell_type": "code",
   "execution_count": 8,
   "id": "d2c8ad48-240e-4fab-8699-9c6aa1829700",
   "metadata": {},
   "outputs": [],
   "source": [
    "# загрузка данных об офисах компании\n",
    "offices = pd.read_csv(\"../datasets/offices.csv\")\n",
    "\n",
    "# функция для подсчета расстояния между двумя точками\n",
    "def distance(lat1, lon1, lat2, lon2):\n",
    "    return ((lat1-lat2)**2 + (lon1-lon2)**2)**0.5\n",
    "\n",
    "# инициализация списка для хранения ближайших центров кластеров\n",
    "nearest_centers = []\n",
    "\n",
    "# проходимся по каждому офису и находим 5 ближайших центров кластеров\n",
    "for office in offices[['latitude', 'longitude']].values:\n",
    "    distances = []\n",
    "    for center in ms.cluster_centers_:\n",
    "        dist = distance(office[0], office[1], center[0], center[1])\n",
    "        distances.append(dist)\n",
    "    nearest_centers_indices = np.argsort(distances)[:5]\n",
    "    nearest_centers_coords = ms.cluster_centers_[nearest_centers_indices]\n",
    "    nearest_centers.append(nearest_centers_coords)"
   ]
  },
  {
   "cell_type": "code",
   "execution_count": 9,
   "id": "86fbb6e5",
   "metadata": {},
   "outputs": [
    {
     "name": "stdout",
     "output_type": "stream",
     "text": [
      "Кластер 1: (37.688043, -122.409142)\n",
      "Кластер 2: (34.187689, -118.448805)\n",
      "Кластер 3: (33.809806, -118.144971)\n",
      "Кластер 4: (32.715963, -117.158197)\n",
      "Кластер 5: (29.301348, -94.797696)\n",
      "Кластер 6: (30.694357, -88.043054)\n",
      "Кластер 7: (27.949461, -82.464971)\n",
      "Кластер 8: (25.786986, -80.218559)\n",
      "Кластер 9: (30.332432, -81.654927)\n",
      "Кластер 10: (32.785318, -79.924742)\n",
      "Кластер 11: (39.287294, -76.613493)\n"
     ]
    }
   ],
   "source": [
    "# вывод координат ближайших к офису центров кластера\n",
    "for i, nearest in enumerate(nearest_centers):\n",
    "    office_coord = offices[['latitude', 'longitude']].values[i]\n",
    "    distances = []\n",
    "    for center in nearest:\n",
    "        dist = distance(office_coord[0], office_coord[1], center[0], center[1])\n",
    "        distances.append(dist)\n",
    "    nearest_center_index = np.argmin(distances)\n",
    "    nearest_center_coord = nearest[nearest_center_index]\n",
    "    print(f\"Кластер {i+1}: ({round(nearest_center_coord[0], 6)}, {round(nearest_center_coord[1], 6)})\")"
   ]
  },
  {
   "cell_type": "code",
   "execution_count": 10,
   "id": "020383b0",
   "metadata": {},
   "outputs": [
    {
     "name": "stdout",
     "output_type": "stream",
     "text": [
      "Ближайший баннер к офису компании: (32.785318, -79.924742)\n"
     ]
    }
   ],
   "source": [
    "# находим ближайший баннер к офису\n",
    "min_distance = float('inf')\n",
    "nearest_banner_coord = None\n",
    "for i, nearest in enumerate(nearest_centers):\n",
    "    office_coord = offices[['latitude', 'longitude']].values[i]\n",
    "    for center in nearest:\n",
    "        dist = distance(office_coord[0], office_coord[1], center[0], center[1])\n",
    "        if dist < min_distance:\n",
    "            min_distance = dist\n",
    "            nearest_banner_coord = center\n",
    "\n",
    "# вывод координат ближайшего баннера\n",
    "print(f\"Ближайший баннер к офису компании: ({round(nearest_banner_coord[0], 6)}, {round(nearest_banner_coord[1], 6)})\")"
   ]
  },
  {
   "attachments": {},
   "cell_type": "markdown",
   "id": "d250c2ef-51a3-4fe8-98ca-b395d8e168ca",
   "metadata": {
    "tags": []
   },
   "source": [
    "## Задание 6"
   ]
  },
  {
   "attachments": {},
   "cell_type": "markdown",
   "id": "bd639f7b-3d62-4e59-9522-77d44f866891",
   "metadata": {},
   "source": [
    "С помощью функции [scatter_mapbox](https://plotly.github.io/plotly.py-docs/generated/plotly.express.scatter_mapbox.html) \n",
    "отметь точки установки баннеров. У тебя должна получится такая картинка.\n",
    "Цветом точки укажи к какому офису будет относиться этот баннер. \n",
    ">Цвет легенды может отличаться от референса"
   ]
  },
  {
   "attachments": {},
   "cell_type": "markdown",
   "id": "b771dbde-ab74-4024-af65-7abdb02af605",
   "metadata": {},
   "source": [
    "<center><img src=\"../misc/images/task_6.png\" width=\"800\" height=\"800\"/> <center/>"
   ]
  },
  {
   "cell_type": "code",
   "execution_count": 11,
   "id": "bcaa76d6-b504-4f71-981d-5c23579a8013",
   "metadata": {},
   "outputs": [
    {
     "ename": "AttributeError",
     "evalue": "'DataFrame' object has no attribute 'append'",
     "output_type": "error",
     "traceback": [
      "\u001b[1;31m---------------------------------------------------------------------------\u001b[0m",
      "\u001b[1;31mAttributeError\u001b[0m                            Traceback (most recent call last)",
      "Cell \u001b[1;32mIn[11], line 28\u001b[0m\n\u001b[0;32m     26\u001b[0m     office \u001b[39m=\u001b[39m offices[[\u001b[39m'\u001b[39m\u001b[39mlatitude\u001b[39m\u001b[39m'\u001b[39m, \u001b[39m'\u001b[39m\u001b[39mlongitude\u001b[39m\u001b[39m'\u001b[39m]]\u001b[39m.\u001b[39mvalues[i]\n\u001b[0;32m     27\u001b[0m     \u001b[39mfor\u001b[39;00m center \u001b[39min\u001b[39;00m nearest:\n\u001b[1;32m---> 28\u001b[0m         df \u001b[39m=\u001b[39m df\u001b[39m.\u001b[39;49mappend({\u001b[39m'\u001b[39m\u001b[39mlatitude\u001b[39m\u001b[39m'\u001b[39m: center[\u001b[39m0\u001b[39m], \u001b[39m'\u001b[39m\u001b[39mlongitude\u001b[39m\u001b[39m'\u001b[39m: center[\u001b[39m1\u001b[39m], \u001b[39m'\u001b[39m\u001b[39mindex_office\u001b[39m\u001b[39m'\u001b[39m: \u001b[39mf\u001b[39m\u001b[39m\"\u001b[39m\u001b[39m{\u001b[39;00mi\u001b[39m+\u001b[39m\u001b[39m1\u001b[39m\u001b[39m}\u001b[39;00m\u001b[39m\"\u001b[39m}, ignore_index\u001b[39m=\u001b[39m\u001b[39mTrue\u001b[39;00m)\n\u001b[0;32m     30\u001b[0m \u001b[39m# создание интерактивной карты с точками баннеров\u001b[39;00m\n\u001b[0;32m     31\u001b[0m fig \u001b[39m=\u001b[39m px\u001b[39m.\u001b[39mscatter_mapbox(df, lat\u001b[39m=\u001b[39m\u001b[39m\"\u001b[39m\u001b[39mlatitude\u001b[39m\u001b[39m\"\u001b[39m, lon\u001b[39m=\u001b[39m\u001b[39m\"\u001b[39m\u001b[39mlongitude\u001b[39m\u001b[39m\"\u001b[39m, hover_name\u001b[39m=\u001b[39m\u001b[39m\"\u001b[39m\u001b[39mindex_office\u001b[39m\u001b[39m\"\u001b[39m, color\u001b[39m=\u001b[39m\u001b[39m\"\u001b[39m\u001b[39mindex_office\u001b[39m\u001b[39m\"\u001b[39m,\n\u001b[0;32m     32\u001b[0m                         height\u001b[39m=\u001b[39m\u001b[39m600\u001b[39m, zoom\u001b[39m=\u001b[39m\u001b[39m2\u001b[39m)\n",
      "File \u001b[1;32m~\\AppData\\Local\\Packages\\PythonSoftwareFoundation.Python.3.10_qbz5n2kfra8p0\\LocalCache\\local-packages\\Python310\\site-packages\\pandas\\core\\generic.py:5989\u001b[0m, in \u001b[0;36mNDFrame.__getattr__\u001b[1;34m(self, name)\u001b[0m\n\u001b[0;32m   5982\u001b[0m \u001b[39mif\u001b[39;00m (\n\u001b[0;32m   5983\u001b[0m     name \u001b[39mnot\u001b[39;00m \u001b[39min\u001b[39;00m \u001b[39mself\u001b[39m\u001b[39m.\u001b[39m_internal_names_set\n\u001b[0;32m   5984\u001b[0m     \u001b[39mand\u001b[39;00m name \u001b[39mnot\u001b[39;00m \u001b[39min\u001b[39;00m \u001b[39mself\u001b[39m\u001b[39m.\u001b[39m_metadata\n\u001b[0;32m   5985\u001b[0m     \u001b[39mand\u001b[39;00m name \u001b[39mnot\u001b[39;00m \u001b[39min\u001b[39;00m \u001b[39mself\u001b[39m\u001b[39m.\u001b[39m_accessors\n\u001b[0;32m   5986\u001b[0m     \u001b[39mand\u001b[39;00m \u001b[39mself\u001b[39m\u001b[39m.\u001b[39m_info_axis\u001b[39m.\u001b[39m_can_hold_identifiers_and_holds_name(name)\n\u001b[0;32m   5987\u001b[0m ):\n\u001b[0;32m   5988\u001b[0m     \u001b[39mreturn\u001b[39;00m \u001b[39mself\u001b[39m[name]\n\u001b[1;32m-> 5989\u001b[0m \u001b[39mreturn\u001b[39;00m \u001b[39mobject\u001b[39;49m\u001b[39m.\u001b[39;49m\u001b[39m__getattribute__\u001b[39;49m(\u001b[39mself\u001b[39;49m, name)\n",
      "\u001b[1;31mAttributeError\u001b[0m: 'DataFrame' object has no attribute 'append'"
     ]
    }
   ],
   "source": [
    "import plotly.express as px\n",
    "\n",
    "# загрузка данных об офисах компании\n",
    "offices = pd.read_csv(\"../datasets/offices.csv\")\n",
    "\n",
    "# функция для подсчета расстояния между двумя точками\n",
    "def distance(lat1, lon1, lat2, lon2):\n",
    "    return ((lat1-lat2)**2 + (lon1-lon2)**2)**0.5\n",
    "\n",
    "# инициализация списка для хранения ближайших центров кластеров\n",
    "nearest_centers = []\n",
    "\n",
    "# проходимся по каждому офису и находим 5 ближайших центров кластеров\n",
    "for office in offices[['latitude', 'longitude']].values:\n",
    "    distances = []\n",
    "    for center in ms.cluster_centers_:\n",
    "        dist = distance(office[0], office[1], center[0], center[1])\n",
    "        distances.append(dist)\n",
    "    nearest_centers_indices = np.argsort(distances)[:5]\n",
    "    nearest_centers_coords = ms.cluster_centers_[nearest_centers_indices]\n",
    "    nearest_centers.append(nearest_centers_coords)\n",
    "\n",
    "# создание датафрейма с координатами баннеров и офисов\n",
    "df = pd.DataFrame(columns=['latitude', 'longitude', 'index_office'])\n",
    "for i, nearest in enumerate(nearest_centers):\n",
    "    office = offices[['latitude', 'longitude']].values[i]\n",
    "    for center in nearest:\n",
    "        df = df.append({'latitude': center[0], 'longitude': center[1], 'index_office': f\"{i+1}\"}, ignore_index=True)\n",
    "\n",
    "# создание интерактивной карты с точками баннеров\n",
    "fig = px.scatter_mapbox(df, lat=\"latitude\", lon=\"longitude\", hover_name=\"index_office\", color=\"index_office\",\n",
    "                        height=600, zoom=2)\n",
    "fig.update_layout(mapbox_style=\"open-street-map\")\n",
    "fig.show()\n"
   ]
  }
 ],
 "metadata": {
  "kernelspec": {
   "display_name": "Python 3 (ipykernel)",
   "language": "python",
   "name": "python3"
  },
  "language_info": {
   "codemirror_mode": {
    "name": "ipython",
    "version": 3
   },
   "file_extension": ".py",
   "mimetype": "text/x-python",
   "name": "python",
   "nbconvert_exporter": "python",
   "pygments_lexer": "ipython3",
   "version": "3.10.11"
  }
 },
 "nbformat": 4,
 "nbformat_minor": 5
}
